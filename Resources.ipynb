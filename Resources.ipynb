{
  "nbformat": 4,
  "nbformat_minor": 0,
  "metadata": {
    "colab": {
      "provenance": []
    },
    "kernelspec": {
      "name": "python3",
      "display_name": "Python 3"
    },
    "language_info": {
      "name": "python"
    }
  },
  "cells": [
    {
      "cell_type": "markdown",
      "source": [
        "# **Week 1**\n",
        "\n",
        "\n",
        "*   You will be doing all of your assignments and the final project on Google Colab. So here is a quick tutorial to help you start with Colab. If you are already comfortable with Colab then you can comfortably skip this.\n",
        "\n",
        "  [Google Collab](https://www.tutorialspoint.com/google_colab/index.htm) and/or [this brief (3 minute) YouTube video introduction to Google Colab](https://www.youtube.com/watch?v=inN8seMm7UI) and/ or [reading this short (1 page) introductory explanation](https://colab.research.google.com/notebooks/intro.ipynb)\n",
        "\n",
        "\n",
        "\n",
        "\n",
        "*   If you are not quite comfortable with Python, this tutorial will help you get started. I will recommend not downloading any of the IDE, etc. You can write the Python code directly in Colab. Even if you are comfortable with Python, its always a good idea to do a quick review\n",
        "  \n",
        "  [1hr Crash Course](https://www.youtube.com/watch?v=kqtD5dpn9C8) and/ or [A bit more detailed tutorial](https://www.youtube.com/watch?v=yE9v9rt6ziw&list=PLTjRvDozrdlxj5wgH4qkvwSOdHLOCx10f&index=3)\n",
        "  \n",
        "\n",
        "\n",
        "*   Having a basic idea of github is always useful. Try going through this tutorial.\n",
        "  \n",
        "  [Git and GitHub](https://www.youtube.com/watch?v=RGOj5yH7evk&t=1664s)\n",
        "*   For those who are already well versed in ML, try implymenting [this paper :)](https://pubs.acs.org/doi/10.1021/acs.jchemed.2c00682)\n",
        "\n",
        "∇\n",
        "\n",
        "Note: - Let us know when you are done, we will add the further bits.\n",
        "\n",
        "\n",
        "\n",
        "\n",
        "\n",
        "\n",
        "\n",
        "  "
      ],
      "metadata": {
        "id": "fnZiCYJYViAU"
      }
    },
    {
      "cell_type": "markdown",
      "source": [],
      "metadata": {
        "id": "NKwE-FxqVkWk"
      }
    }
  ]
}